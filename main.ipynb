{
 "cells": [
  {
   "cell_type": "markdown",
   "id": "d0bd572f-b0f4-4fa4-8924-db56107d7f2d",
   "metadata": {},
   "source": [
    "## My Bank Homework"
   ]
  },
  {
   "cell_type": "code",
   "execution_count": 72,
   "id": "4a4f19ed-8513-4b84-a62f-9a2eb0e519ca",
   "metadata": {},
   "outputs": [],
   "source": [
    "# Import the pathlib and csv library\n",
    "from pathlib import Path\n",
    "import csv"
   ]
  },
  {
   "cell_type": "code",
   "execution_count": 73,
   "id": "fa3b1c4c-b684-408b-92c8-e90a10bb818d",
   "metadata": {},
   "outputs": [],
   "source": [
    "# Set the file path\n",
    "csvpath = Path(\"budget_data.csv\")\n",
    "\n",
    "months = []\n",
    "month = ''\n",
    "\n",
    "pnls = []\n",
    "pnl = 0\n",
    "\n",
    "changes = []\n",
    "net_monthly_avg = 0\n",
    "\n",
    "line_num = 0\n",
    "\n"
   ]
  },
  {
   "cell_type": "code",
   "execution_count": 74,
   "id": "8bcf7f92-632f-48b8-914b-735a65186319",
   "metadata": {},
   "outputs": [
    {
     "name": "stdout",
     "output_type": "stream",
     "text": [
      "budget_data.csv\n"
     ]
    }
   ],
   "source": [
    "print(csvpath)"
   ]
  },
  {
   "cell_type": "code",
   "execution_count": 75,
   "id": "092c2f5e-be89-4375-88d6-c1305ec4ad27",
   "metadata": {},
   "outputs": [
    {
     "name": "stdout",
     "output_type": "stream",
     "text": [
      "38382578\n"
     ]
    }
   ],
   "source": [
    "# Open the csv file as an object\n",
    "    # print (type(data_file_))\n",
    "    # read file\n",
    "total_net = 0\n",
    "with open(csvpath, 'r') as csvfile:\n",
    "    csvreader = csv.reader(csvfile, delimiter=',')\n",
    "    header = next(csvreader)\n",
    "    for row in csvreader:\n",
    "        total_net += int(row[1])\n",
    "print(total_net)"
   ]
  },
  {
   "cell_type": "code",
   "execution_count": 76,
   "id": "76dd1a06-2eb5-4890-b3e1-6a5c5de10462",
   "metadata": {},
   "outputs": [],
   "source": [
    "# Open the csv file as an object\n",
    "with open(csvpath, \"r\") as data_file:\n",
    "    \n",
    "    # print(type(data_file))\n",
    "    # Read the file\n",
    "    csvreader = csv.reader(data_file, delimiter =',')\n",
    "\n",
    "    # Read the head row\n",
    "    header = next(csvreader)\n",
    "    line_num+=1\n",
    "\n",
    "    # Iterate through the rows of the csv file\n",
    "    for row in csvreader:\n",
    "\n",
    "    # Set month to corresponding column 1\n",
    "        month = row[0]\n",
    "    # Update months list with append\n",
    "        months.append(month)\n",
    "\n",
    "    total_months = len(months)\n"
   ]
  },
  {
   "cell_type": "code",
   "execution_count": 77,
   "id": "f4f83d49-998e-4e79-989d-c735eb8c0ea0",
   "metadata": {},
   "outputs": [],
   "source": [
    "with open(csvpath, 'r') as data_file:\n",
    "\n",
    "    csvreader = csv.reader(data_file, delimiter=',')\n",
    "\n",
    "    header = next(csvreader)\n",
    "    line_num+=1\n",
    "\n",
    "    for row in csvreader:\n",
    "        pnl = int(row[1])\n",
    "\n",
    "        pnls.append(pnl)\n",
    "        "
   ]
  },
  {
   "cell_type": "code",
   "execution_count": 78,
   "id": "b513ce86",
   "metadata": {},
   "outputs": [
    {
     "name": "stdout",
     "output_type": "stream",
     "text": [
      "[116771, -662642, -391430, 379920, 212354, 510239, -428211, -821271, 693918, 416278, -974163, 860159, -1115009, 1033048, 95318, -308093, 99052, -521393, 605450, 231727, -65187, -702716, 177975, -1065544, 1926159, -917805, 898730, -334262, -246499, -64055, -1529236, 1497596, 304914, -635801, 398319, -183161, -37864, -253689, 403655, 94168, 306877, -83000, 210462, -2196167, 1465222, -956983, 1838447, -468003, -64602, 206242, -242155, -449079, 315198, 241099, 111540, 365942, -219310, -368665, 409837, 151210, -110244, -341938, -1212159, 683246, -70825, 335594, 417334, -272194, -236462, 657432, -211262, -128237, -1750387, 925441, 932089, -311434, 267252, -1876758, 1733696, 198551, -665765, 693229, -734926, 77242, 532869]\n"
     ]
    }
   ],
   "source": [
    "deltas = [pnls[i+1] - pnls[i] for i in range(len(pnls)-1)]\n",
    "\n",
    "print(deltas)\n"
   ]
  },
  {
   "cell_type": "code",
   "execution_count": 79,
   "id": "7d90171b",
   "metadata": {},
   "outputs": [],
   "source": [
    "def Average(lst):\n",
    "    return sum(lst) / len (lst)\n",
    "\n",
    "avg = Average(deltas)\n",
    "\n",
    "net_monthly_avg = round(avg, 2)\n"
   ]
  },
  {
   "cell_type": "code",
   "execution_count": 80,
   "id": "b1e782f2",
   "metadata": {},
   "outputs": [],
   "source": [
    "greatest_increase = max(deltas)\n",
    "max_index = deltas.index(greatest_increase)\n",
    "\n",
    "greatest_increase_month = max_index + 1\n",
    "\n"
   ]
  },
  {
   "cell_type": "code",
   "execution_count": 81,
   "metadata": {},
   "outputs": [],
   "source": [
    "greatest_decrease = min(deltas)\n",
    "min_index = deltas.index(greatest_decrease)\n",
    "\n",
    "greatest_decrease_month = min_index + 1\n"
   ]
  },
  {
   "cell_type": "code",
   "execution_count": 82,
   "id": "c6e559d8",
   "metadata": {},
   "outputs": [],
   "source": [
    "with open(\"Bank_Numbers.txt\", \"w\") as txt_file:\n",
    "    txt_file.write(f\"Financial Analysis\\n\")\n",
    "    txt_file.write(f\"----------------------------\\n\")\n",
    "    txt_file.write(f\"Total Months: {total_months}\\n\")\n",
    "    txt_file.write(f\"Total: ${total_net}\\n\")\n",
    "    txt_file.write(f\"Average  Change: ${net_monthly_avg}\\n\")\n",
    "    txt_file.write(f\"Greatest Increase in Profits: {months[greatest_increase_month]} (${greatest_increase})\\n\")\n",
    "    txt_file.write(f\"Greatest Decrease in Profits: {months[greatest_decrease_month]} (${greatest_decrease})\\n\")\n",
    "\n"
   ]
  }
 ],
 "metadata": {
  "kernelspec": {
   "display_name": "Python 3 (ipykernel)",
   "language": "python",
   "name": "python3"
  },
  "language_info": {
   "codemirror_mode": {
    "name": "ipython",
    "version": 3
   },
   "file_extension": ".py",
   "mimetype": "text/x-python",
   "name": "python",
   "nbconvert_exporter": "python",
   "pygments_lexer": "ipython3",
   "version": "3.7.11"
  }
 },
 "nbformat": 4,
 "nbformat_minor": 5
}
