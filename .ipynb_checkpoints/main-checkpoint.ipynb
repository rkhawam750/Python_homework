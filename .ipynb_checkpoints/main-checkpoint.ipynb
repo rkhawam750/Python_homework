{
 "cells": [
  {
   "cell_type": "markdown",
   "id": "d0bd572f-b0f4-4fa4-8924-db56107d7f2d",
   "metadata": {},
   "source": [
    "## My Bank Homework"
   ]
  },
  {
   "cell_type": "code",
   "execution_count": 2,
   "id": "4a4f19ed-8513-4b84-a62f-9a2eb0e519ca",
   "metadata": {},
   "outputs": [],
   "source": [
    "# Import the pathlib and csv library\n",
    "from pathlib import Path\n",
    "import csv"
   ]
  },
  {
   "cell_type": "code",
   "execution_count": 4,
   "id": "fa3b1c4c-b684-408b-92c8-e90a10bb818d",
   "metadata": {},
   "outputs": [],
   "source": [
    "# Set the file path\n",
    "csvpath = Path(\"budget_data.csv\")"
   ]
  },
  {
   "cell_type": "code",
   "execution_count": 6,
   "id": "8bcf7f92-632f-48b8-914b-735a65186319",
   "metadata": {},
   "outputs": [
    {
     "name": "stdout",
     "output_type": "stream",
     "text": [
      "budget_data.csv\n"
     ]
    }
   ],
   "source": [
    "print(csvpath)"
   ]
  },
  {
   "cell_type": "code",
   "execution_count": 28,
   "id": "092c2f5e-be89-4375-88d6-c1305ec4ad27",
   "metadata": {},
   "outputs": [
    {
     "name": "stdout",
     "output_type": "stream",
     "text": [
      "38382578\n"
     ]
    }
   ],
   "source": [
    "total = 0\n",
    "with open(csvpath, 'r') as csvfile:\n",
    "    csvreader = csv.reader(csvfile, delimiter=',')\n",
    "    header = next(csvreader)\n",
    "    for row in csvreader:\n",
    "        #print(row)\n",
    "        #print(row[1])\n",
    "        total += int(row[1])\n",
    "print(total)"
   ]
  },
  {
   "cell_type": "code",
   "execution_count": null,
   "id": "76dd1a06-2eb5-4890-b3e1-6a5c5de10462",
   "metadata": {},
   "outputs": [],
   "source": []
  },
  {
   "cell_type": "code",
   "execution_count": null,
   "id": "f4f83d49-998e-4e79-989d-c735eb8c0ea0",
   "metadata": {},
   "outputs": [],
   "source": []
  }
 ],
 "metadata": {
  "kernelspec": {
   "display_name": "Python 3 (ipykernel)",
   "language": "python",
   "name": "python3"
  },
  "language_info": {
   "codemirror_mode": {
    "name": "ipython",
    "version": 3
   },
   "file_extension": ".py",
   "mimetype": "text/x-python",
   "name": "python",
   "nbconvert_exporter": "python",
   "pygments_lexer": "ipython3",
   "version": "3.9.7"
  }
 },
 "nbformat": 4,
 "nbformat_minor": 5
}
